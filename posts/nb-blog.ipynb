{
 "cells": [
  {
   "cell_type": "markdown",
   "id": "51029377654556a",
   "metadata": {},
   "source": [
    "---\n",
    "date: \"2025-1-2T11:53:00.00Z\"\n",
    "description: \"Blogging in Jupyter notebooks with python code examples\"\n",
    "published: true\n",
    "tags:\n",
    "  - python\n",
    "  - fasthtml\n",
    "  - Juypter\n",
    "time_to_read: 2\n",
    "title: \"📝 Jupyter Notebook Blogging\"\n",
    "type: post\n",
    "image: \"/public/images/blogging.png\"\n",
    "---"
   ]
  },
  {
   "cell_type": "markdown",
   "id": "dcf85a915b3f1a26",
   "metadata": {},
   "source": [
    "This year, I want to write more Python professionally and for hobby projects while also blogging more about my learning. [Juypter](https://jupyter.org/) notebooks elegantly solve the problem of commentating code in a standardised familiar format:"
   ]
  },
  {
   "cell_type": "code",
   "execution_count": 9,
   "id": "e1a257bae9d7ddd2",
   "metadata": {
    "ExecuteTime": {
     "end_time": "2025-01-02T12:26:15.963812Z",
     "start_time": "2025-01-02T12:26:15.960453Z"
    }
   },
   "outputs": [
    {
     "data": {
      "text/plain": [
       "'Hello Stephen'"
      ]
     },
     "execution_count": 9,
     "metadata": {},
     "output_type": "execute_result"
    }
   ],
   "source": [
    "def say_hello(name: str) -> str:\n",
    "    return f\"Hello {name}\"\n",
    "\n",
    "say_hello(\"Stephen\")"
   ]
  },
  {
   "cell_type": "markdown",
   "id": "9c12f8180e961617",
   "metadata": {},
   "source": [
    "The [nb3fasthtml](https://github.com/AnswerDotAI/nb2fasthtml) provides helper functions to make it easy to integrate into this [fasthtml](https://github.com/AnswerDotAI/fasthtml) blog."
   ]
  },
  {
   "cell_type": "markdown",
   "id": "a436ab10b985e5b",
   "metadata": {},
   "source": [
    "Stay tuned for some more frequent technical blogs this year!"
   ]
  }
 ],
 "metadata": {
  "kernelspec": {
   "display_name": ".venv",
   "language": "python",
   "name": "python3"
  },
  "language_info": {
   "codemirror_mode": {
    "name": "ipython",
    "version": 3
   },
   "file_extension": ".py",
   "mimetype": "text/x-python",
   "name": "python",
   "nbconvert_exporter": "python",
   "pygments_lexer": "ipython3",
   "version": "3.12.6"
  }
 },
 "nbformat": 4,
 "nbformat_minor": 2
}
